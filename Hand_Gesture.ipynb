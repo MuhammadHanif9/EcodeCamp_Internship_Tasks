{
  "nbformat": 4,
  "nbformat_minor": 0,
  "metadata": {
    "colab": {
      "provenance": [],
      "gpuType": "T4",
      "authorship_tag": "ABX9TyMNThWuADQrHo1MF8Yfupli",
      "include_colab_link": true
    },
    "kernelspec": {
      "name": "python3",
      "display_name": "Python 3"
    },
    "language_info": {
      "name": "python"
    },
    "accelerator": "GPU"
  },
  "cells": [
    {
      "cell_type": "markdown",
      "metadata": {
        "id": "view-in-github",
        "colab_type": "text"
      },
      "source": [
        "<a href=\"https://colab.research.google.com/github/MuhammadHanif9/EcodeCamp_Task_Two/blob/main/Hand_Gesture.ipynb\" target=\"_parent\"><img src=\"https://colab.research.google.com/assets/colab-badge.svg\" alt=\"Open In Colab\"/></a>"
      ]
    },
    {
      "cell_type": "code",
      "execution_count": 1,
      "metadata": {
        "colab": {
          "base_uri": "https://localhost:8080/"
        },
        "id": "x7pCQi26o2aG",
        "outputId": "d352042c-a749-448e-e666-a467110c9765"
      },
      "outputs": [
        {
          "output_type": "stream",
          "name": "stdout",
          "text": [
            "Warning: Looks like you're using an outdated API Version, please consider updating (server 1.6.17 / client 1.6.14)\n",
            "ref                                                                  title                                           size  lastUpdated          downloadCount  voteCount  usabilityRating  \n",
            "-------------------------------------------------------------------  ---------------------------------------------  -----  -------------------  -------------  ---------  ---------------  \n",
            "haseebindata/student-performance-predictions                         Student Performance Predictions                  9KB  2024-08-17 06:57:57           5133        111  0.9411765        \n",
            "uom190346a/sleep-and-health-metrics                                  Sleep and Health Metrics                        73KB  2024-08-31 02:39:09            832         26  1.0              \n",
            "berkayalan/paris-2024-olympics-medals                                Paris 2024 Olympics Medals                       1KB  2024-08-14 11:02:45           4811         89  1.0              \n",
            "jeannicolasduval/2024-fortune-1000-companies                         2024 Fortune 1000 Companies                    301KB  2024-08-14 21:25:41           1276         26  1.0              \n",
            "uom190346a/ai-powered-job-market-insights                            AI-Powered Job Market Insights                  10KB  2024-08-26 05:55:43           1636         36  1.0              \n",
            "willianoliveiragibin/olympics-2024                                   Olympics 2024                                  352KB  2024-08-15 22:29:31           2229         35  1.0              \n",
            "balajivaraprasad/crimes-against-women-in-india-2001-2021             Crimes Against Women in India (2001-2021)       13KB  2024-08-15 16:47:18           2797         62  1.0              \n",
            "sahityasetu/paris-olympics-2024-total-medals-tally                   Paris Olympics 2024 Total Medals Tally           2KB  2024-08-23 20:22:40            778         23  0.88235295       \n",
            "abdullahashfaqvirk/student-mental-health-survey                      Student Mental Health Survey                     2KB  2024-08-23 15:38:57           2234         39  0.88235295       \n",
            "cvergnolle/gold-price-and-relevant-metrics                           Gold Price & Relevant Metrics                   36KB  2024-08-13 22:08:02           1216         21  1.0              \n",
            "souradippal/student-performance-prediction                           Student Performance Prediction                 381KB  2024-08-16 15:59:38           2377         51  1.0              \n",
            "myrios/cost-of-living-index-by-country-by-number-2024                Cost of Living Index by Country                  3KB  2024-07-19 06:25:42           8997        146  1.0              \n",
            "emreksz/software-engineer-jobs-and-salaries-2024                     Software Engineer Jobs & Salaries 2024          23KB  2024-08-12 00:08:03           2596         53  1.0              \n",
            "spypsc07/amazon-products                                             Amazon_products                                  6KB  2024-08-02 06:13:47           2468         34  1.0              \n",
            "crinklybrain2003/pokmon-base-stats-dataset                           Pokémon Base Stats Dataset                      37KB  2024-08-26 02:04:25            862         32  1.0              \n",
            "mahmoudemadabdallah/hr-analytics-employee-attrition-and-performance  HR Analytics Employee Attrition & Performance  147KB  2024-08-21 15:33:00           1466         42  1.0              \n",
            "wajahat1064/healthcare-appointment-dataset                           Healthcare Appointment Dataset                   2MB  2024-08-27 06:14:04            762         25  0.88235295       \n",
            "abdoomoh/daily-covid-19-data-2020-2024                               Daily COVID-19 Data (2020-2024)                  1MB  2024-08-26 19:04:56            748         25  1.0              \n",
            "mrmars1010/filpkart-mobiles                                          Flipkart Products Sales: Mobiles Dataset 📱     108KB  2024-08-24 04:31:50           1374         30  1.0              \n",
            "shashanks1202/apartment-rent-data                                    Apartment Rent Data                             27MB  2024-08-16 11:11:12           1385         36  0.8235294        \n",
            "Warning: Looks like you're using an outdated API Version, please consider updating (server 1.6.17 / client 1.6.14)\n",
            "Dataset URL: https://www.kaggle.com/datasets/aryarishabh/hand-gesture-recognition-dataset\n",
            "License(s): CC0-1.0\n",
            "Downloading hand-gesture-recognition-dataset.zip to /content\n",
            " 98% 37.0M/37.6M [00:02<00:00, 21.9MB/s]\n",
            "100% 37.6M/37.6M [00:02<00:00, 14.0MB/s]\n"
          ]
        }
      ],
      "source": [
        "import os\n",
        "import zipfile\n",
        "\n",
        "# Create the Kaggle directory and move kaggle.json there\n",
        "os.makedirs('/root/.kaggle', exist_ok=True)\n",
        "!mv kaggle.json /root/.kaggle/\n",
        "\n",
        "# Set the permission for the kaggle.json file\n",
        "!chmod 600 /root/.kaggle/kaggle.json\n",
        "\n",
        "# Verify Kaggle API is set up correctly\n",
        "!kaggle datasets list\n",
        "\n",
        "# Download the dataset using Kaggle API\n",
        "!kaggle datasets download -d aryarishabh/hand-gesture-recognition-dataset\n",
        "\n",
        "# Unzip the dataset if it's a zip file\n",
        "with zipfile.ZipFile('hand-gesture-recognition-dataset.zip', 'r') as zip_ref:\n",
        "    zip_ref.extractall('/content/hand-gesture-recognition-dataset')\n"
      ]
    },
    {
      "cell_type": "code",
      "source": [
        "print(os.listdir('/content/hand-gesture-recognition-dataset'))"
      ],
      "metadata": {
        "colab": {
          "base_uri": "https://localhost:8080/"
        },
        "id": "5D-HCEgSpg_V",
        "outputId": "3bbc605f-2ab2-4ef5-8094-af4757b95db0"
      },
      "execution_count": 2,
      "outputs": [
        {
          "output_type": "stream",
          "name": "stdout",
          "text": [
            "['test', 'train']\n"
          ]
        }
      ]
    },
    {
      "cell_type": "code",
      "source": [
        "import cv2\n",
        "import numpy as np\n",
        "from tensorflow.keras.utils import to_categorical\n",
        "from tensorflow.keras.preprocessing.image import ImageDataGenerator"
      ],
      "metadata": {
        "id": "3cFr4O6op5wm"
      },
      "execution_count": 18,
      "outputs": []
    },
    {
      "cell_type": "code",
      "source": [
        "dataset_dir = 'hand-gesture-recognition-dataset'\n",
        "image_files = []\n",
        "for root, dirs, files in os.walk(dataset_dir):\n",
        "    for file in files:\n",
        "        if file.endswith('.png') or file.endswith('.jpg'):\n",
        "            image_files.append(os.path.join(root, file))\n",
        "\n",
        "print(f\"Found {len(image_files)} images in the dataset.\")"
      ],
      "metadata": {
        "colab": {
          "base_uri": "https://localhost:8080/"
        },
        "id": "vMzaezS1ppDE",
        "outputId": "7c8a1a69-8718-46ff-bb17-552919c8a266"
      },
      "execution_count": 19,
      "outputs": [
        {
          "output_type": "stream",
          "name": "stdout",
          "text": [
            "Found 24000 images in the dataset.\n"
          ]
        }
      ]
    },
    {
      "cell_type": "code",
      "source": [
        "\n",
        "# Resize dimensions\n",
        "img_size = 64\n",
        "\n",
        "# Placeholder for images and labels\n",
        "X = []\n",
        "y = []\n",
        "\n",
        "# Load and preprocess each image\n",
        "for image_file in image_files:\n",
        "    # Read the image\n",
        "    img = cv2.imread(image_file)\n",
        "\n",
        "    # Resize the image\n",
        "    img = cv2.resize(img, (img_size, img_size))\n",
        "\n",
        "    # Normalize the image\n",
        "    img = img.astype('float32') / 255.0\n",
        "\n",
        "    # Append the preprocessed image to the list\n",
        "    X.append(img)\n",
        "\n",
        "    # Extract label from the directory structure or filename\n",
        "    label = os.path.basename(os.path.dirname(image_file))  # Assuming labels are directory names\n",
        "    y.append(label)\n",
        "\n",
        "# Convert lists to numpy arrays\n",
        "X = np.array(X)\n",
        "\n",
        "\n"
      ],
      "metadata": {
        "id": "FyZ7pUvEp_jJ"
      },
      "execution_count": 20,
      "outputs": []
    },
    {
      "cell_type": "code",
      "source": [
        "# Encode labels if necessary\n",
        "from sklearn.preprocessing import LabelEncoder\n",
        "label_encoder = LabelEncoder()\n",
        "y = label_encoder.fit_transform(y)\n",
        "y = to_categorical(y)\n",
        "\n",
        "print(f\"Processed {X.shape[0]} images with shape {X.shape[1:]} and {len(label_encoder.classes_)} classes.\")"
      ],
      "metadata": {
        "colab": {
          "base_uri": "https://localhost:8080/"
        },
        "id": "m6w0G7DEutD1",
        "outputId": "297082bd-3437-416e-834a-8e0ed25cd9d7"
      },
      "execution_count": 21,
      "outputs": [
        {
          "output_type": "stream",
          "name": "stdout",
          "text": [
            "Processed 24000 images with shape (64, 64, 3) and 20 classes.\n"
          ]
        }
      ]
    },
    {
      "cell_type": "code",
      "source": [
        "\n",
        "\n",
        "# Create an ImageDataGenerator object for data augmentation\n",
        "datagen = ImageDataGenerator(\n",
        "    rotation_range=20,\n",
        "    width_shift_range=0.2,\n",
        "    height_shift_range=0.2,\n",
        "    shear_range=0.2,\n",
        "    zoom_range=0.2,\n",
        "    horizontal_flip=True,\n",
        "    fill_mode='nearest'\n",
        ")\n",
        "\n",
        "# Fit the generator to your data (if needed)\n",
        "datagen.fit(X)\n",
        "\n",
        "# Example: Generating one batch of augmented images\n",
        "augmented_images, augmented_labels = next(datagen.flow(X, y, batch_size=32))\n",
        "\n",
        "# To visualize some augmented images:\n",
        "import matplotlib.pyplot as plt\n",
        "\n",
        "plt.figure(figsize=(10, 10))\n",
        "for i in range(9):\n",
        "    plt.subplot(3, 3, i + 1)\n",
        "    plt.imshow(augmented_images[i])\n",
        "    plt.title(f\"Class: {np.argmax(augmented_labels[i])}\")\n",
        "    plt.axis('off')\n",
        "plt.show()\n"
      ],
      "metadata": {
        "colab": {
          "base_uri": "https://localhost:8080/",
          "height": 829
        },
        "id": "bqYs6ExDqSNB",
        "outputId": "8706364b-29dd-487a-dd5b-efc788291190"
      },
      "execution_count": 22,
      "outputs": [
        {
          "output_type": "display_data",
          "data": {
            "text/plain": [
              "<Figure size 1000x1000 with 9 Axes>"
            ],
            "image/png": "[encoded data removed]"
          },
          "metadata": {}
        }
      ]
    },
    {
      "cell_type": "code",
      "source": [
        "import tensorflow as tf\n",
        "from tensorflow.keras.models import Sequential\n",
        "from tensorflow.keras.layers import Conv2D, MaxPooling2D, Flatten, Dense, Dropout, Input\n",
        "\n",
        "# Define the CNN model\n",
        "def create_cnn_model(input_shape, num_classes):\n",
        "    model = Sequential()\n",
        "\n",
        "    # Use Input layer to define the input shape\n",
        "    model.add(Input(shape=input_shape))\n",
        "\n",
        "    # Now add the rest of the layers\n",
        "    model.add(Conv2D(32, (3, 3), activation='relu'))\n",
        "    model.add(MaxPooling2D((2, 2)))\n",
        "\n",
        "    model.add(Conv2D(64, (3, 3), activation='relu'))\n",
        "    model.add(MaxPooling2D((2, 2)))\n",
        "\n",
        "    model.add(Conv2D(128, (3, 3), activation='relu'))\n",
        "    model.add(MaxPooling2D((2, 2)))\n",
        "\n",
        "    model.add(Flatten())\n",
        "    model.add(Dense(128, activation='relu'))\n",
        "    model.add(Dropout(0.5))\n",
        "    model.add(Dense(num_classes, activation='softmax'))\n",
        "\n",
        "    model.compile(optimizer='adam', loss='categorical_crossentropy', metrics=['accuracy'])\n",
        "    return model\n",
        "\n",
        "# Input shape: (64, 64, 3) for 64x64 RGB images, and num_classes is the number of gesture classes\n",
        "input_shape = (64, 64, 3)\n",
        "num_classes = len(label_encoder.classes_)  # Assuming `label_encoder` was created in the preprocessing step\n",
        "\n",
        "cnn_model = create_cnn_model(input_shape, num_classes)\n",
        "\n",
        "# Print the model summary\n",
        "cnn_model.summary()\n"
      ],
      "metadata": {
        "colab": {
          "base_uri": "https://localhost:8080/"
        },
        "id": "h2AHTuT3qXdy",
        "outputId": "3b2f9e0f-f1ce-4fca-8c09-6ca116917239"
      },
      "execution_count": 23,
      "outputs": [
        {
          "output_type": "stream",
          "name": "stdout",
          "text": [
            "Model: \"sequential_2\"\n",
            "_________________________________________________________________\n",
            " Layer (type)                Output Shape              Param #   \n",
            "=================================================================\n",
            " conv2d_6 (Conv2D)           (None, 62, 62, 32)        896       \n",
            "                                                                 \n",
            " max_pooling2d_6 (MaxPoolin  (None, 31, 31, 32)        0         \n",
            " g2D)                                                            \n",
            "                                                                 \n",
            " conv2d_7 (Conv2D)           (None, 29, 29, 64)        18496     \n",
            "                                                                 \n",
            " max_pooling2d_7 (MaxPoolin  (None, 14, 14, 64)        0         \n",
            " g2D)                                                            \n",
            "                                                                 \n",
            " conv2d_8 (Conv2D)           (None, 12, 12, 128)       73856     \n",
            "                                                                 \n",
            " max_pooling2d_8 (MaxPoolin  (None, 6, 6, 128)         0         \n",
            " g2D)                                                            \n",
            "                                                                 \n",
            " flatten_2 (Flatten)         (None, 4608)              0         \n",
            "                                                                 \n",
            " dense_4 (Dense)             (None, 128)               589952    \n",
            "                                                                 \n",
            " dropout_2 (Dropout)         (None, 128)               0         \n",
            "                                                                 \n",
            " dense_5 (Dense)             (None, 20)                2580      \n",
            "                                                                 \n",
            "=================================================================\n",
            "Total params: 685780 (2.62 MB)\n",
            "Trainable params: 685780 (2.62 MB)\n",
            "Non-trainable params: 0 (0.00 Byte)\n",
            "_________________________________________________________________\n"
          ]
        }
      ]
    },
    {
      "cell_type": "code",
      "source": [
        "# Train the model\n",
        "history = cnn_model.fit(X, y, epochs=15, batch_size=32, validation_split=0.2)\n",
        "\n",
        "# Save the model\n",
        "cnn_model.save('cnn_hand_gesture_model.keras')\n"
      ],
      "metadata": {
        "colab": {
          "base_uri": "https://localhost:8080/"
        },
        "id": "_g6Vzvl8rTjE",
        "outputId": "7e4592d3-d230-429e-9ed5-f7c10a0c434d"
      },
      "execution_count": 25,
      "outputs": [
        {
          "output_type": "stream",
          "name": "stdout",
          "text": [
            "Epoch 1/15\n",
            "600/600 [==============================] - 4s 7ms/step - loss: 0.0011 - accuracy: 0.9998 - val_loss: 0.0447 - val_accuracy: 0.9952\n",
            "Epoch 2/15\n",
            "600/600 [==============================] - 4s 7ms/step - loss: 4.3665e-04 - accuracy: 0.9998 - val_loss: 0.0575 - val_accuracy: 0.9954\n",
            "Epoch 3/15\n",
            "600/600 [==============================] - 4s 7ms/step - loss: 5.0507e-04 - accuracy: 0.9998 - val_loss: 0.0419 - val_accuracy: 0.9969\n",
            "Epoch 4/15\n",
            "600/600 [==============================] - 4s 6ms/step - loss: 0.0010 - accuracy: 0.9997 - val_loss: 0.0469 - val_accuracy: 0.9969\n",
            "Epoch 5/15\n",
            "600/600 [==============================] - 4s 6ms/step - loss: 0.0051 - accuracy: 0.9988 - val_loss: 0.0595 - val_accuracy: 0.9958\n",
            "Epoch 6/15\n",
            "600/600 [==============================] - 5s 8ms/step - loss: 0.0011 - accuracy: 0.9997 - val_loss: 0.0696 - val_accuracy: 0.9956\n",
            "Epoch 7/15\n",
            "600/600 [==============================] - 4s 6ms/step - loss: 2.2064e-04 - accuracy: 0.9999 - val_loss: 0.0559 - val_accuracy: 0.9965\n",
            "Epoch 8/15\n",
            "600/600 [==============================] - 4s 6ms/step - loss: 5.2912e-04 - accuracy: 0.9998 - val_loss: 0.0777 - val_accuracy: 0.9948\n",
            "Epoch 9/15\n",
            "600/600 [==============================] - 4s 7ms/step - loss: 0.0012 - accuracy: 0.9996 - val_loss: 0.0405 - val_accuracy: 0.9962\n",
            "Epoch 10/15\n",
            "600/600 [==============================] - 4s 6ms/step - loss: 0.0015 - accuracy: 0.9997 - val_loss: 0.0985 - val_accuracy: 0.9969\n",
            "Epoch 11/15\n",
            "600/600 [==============================] - 4s 6ms/step - loss: 8.1261e-04 - accuracy: 0.9999 - val_loss: 0.0528 - val_accuracy: 0.9971\n",
            "Epoch 12/15\n",
            "600/600 [==============================] - 4s 7ms/step - loss: 1.7763e-04 - accuracy: 0.9999 - val_loss: 0.0491 - val_accuracy: 0.9969\n",
            "Epoch 13/15\n",
            "600/600 [==============================] - 4s 7ms/step - loss: 0.0016 - accuracy: 0.9996 - val_loss: 0.0426 - val_accuracy: 0.9979\n",
            "Epoch 14/15\n",
            "600/600 [==============================] - 4s 6ms/step - loss: 0.0022 - accuracy: 0.9995 - val_loss: 0.0543 - val_accuracy: 0.9942\n",
            "Epoch 15/15\n",
            "600/600 [==============================] - 4s 6ms/step - loss: 0.0030 - accuracy: 0.9994 - val_loss: 0.0622 - val_accuracy: 0.9940\n"
          ]
        }
      ]
    },
    {
      "cell_type": "code",
      "source": [],
      "metadata": {
        "id": "5i4lXTyUxXQR"
      },
      "execution_count": null,
      "outputs": []
    }
  ]
}